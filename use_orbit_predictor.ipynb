{
 "cells": [
  {
   "cell_type": "code",
   "execution_count": 1,
   "metadata": {},
   "outputs": [],
   "source": [
    "# # Main function to convert TEME coordinates to latitude and longitude\n",
    "# def teme_to_latlon(x_teme, y_teme, z_teme, datetime_utc):\n",
    "#     jd = julian_date(datetime_utc)\n",
    "#     gst = gst_from_julian_date(jd)\n",
    "#     x_ecef, y_ecef, z_ecef = teme_to_ecef(x_teme, y_teme, z_teme, gst)\n",
    "#     lat, lon, alt = ecef_to_geodetic(x_ecef, y_ecef, z_ecef)\n",
    "#     return lat, lon, alt"
   ]
  },
  {
   "cell_type": "code",
   "execution_count": 2,
   "metadata": {},
   "outputs": [],
   "source": [
    "import json\n",
    "import pandas as pd\n",
    "from datetime import datetime"
   ]
  },
  {
   "cell_type": "code",
   "execution_count": 3,
   "metadata": {},
   "outputs": [],
   "source": [
    "from orbit_predictor.utils import gstime_from_datetime\n",
    "from orbit_predictor.coordinate_systems import eci_to_ecef, ecef_to_llh"
   ]
  },
  {
   "cell_type": "code",
   "execution_count": 4,
   "metadata": {},
   "outputs": [],
   "source": [
    "# Read data from csv\n",
    "position_df=pd.read_csv(\"data/position_telemetry\")"
   ]
  },
  {
   "cell_type": "code",
   "execution_count": 5,
   "metadata": {},
   "outputs": [],
   "source": [
    "t=position_df.epoch[0]"
   ]
  },
  {
   "cell_type": "code",
   "execution_count": 6,
   "metadata": {},
   "outputs": [],
   "source": [
    "t=datetime.fromisoformat(t)"
   ]
  },
  {
   "cell_type": "code",
   "execution_count": 7,
   "metadata": {},
   "outputs": [],
   "source": [
    "x_teme=position_df.position_teme_km_x[0]\n",
    "y_teme=position_df.position_teme_km_y[0]\n",
    "z_teme=position_df.position_teme_km_z[0]\n"
   ]
  },
  {
   "cell_type": "code",
   "execution_count": 8,
   "metadata": {},
   "outputs": [
    {
     "data": {
      "text/plain": [
       "4.57817169508882"
      ]
     },
     "execution_count": 8,
     "metadata": {},
     "output_type": "execute_result"
    }
   ],
   "source": [
    "gstime_from_datetime(t)"
   ]
  },
  {
   "cell_type": "code",
   "execution_count": 9,
   "metadata": {},
   "outputs": [
    {
     "name": "stdout",
     "output_type": "stream",
     "text": [
      "(-1141.3402316662812, -3951.0495386716284, 5542.3233445429705)\n"
     ]
    }
   ],
   "source": [
    "coordinates_in_ecef=eci_to_ecef((x_teme,y_teme,z_teme), gstime_from_datetime(t))\n",
    "print(coordinates_in_ecef)"
   ]
  },
  {
   "cell_type": "code",
   "execution_count": 10,
   "metadata": {},
   "outputs": [
    {
     "data": {
      "text/plain": [
       "(53.59299252013463, -106.11242671918764, 537.1831324904151)"
      ]
     },
     "execution_count": 10,
     "metadata": {},
     "output_type": "execute_result"
    }
   ],
   "source": [
    "ecef_to_llh(coordinates_in_ecef)"
   ]
  },
  {
   "cell_type": "code",
   "execution_count": 11,
   "metadata": {},
   "outputs": [],
   "source": [
    "n=position_df.shape[0]"
   ]
  },
  {
   "cell_type": "code",
   "execution_count": 12,
   "metadata": {},
   "outputs": [
    {
     "name": "stderr",
     "output_type": "stream",
     "text": [
      "/home/esteban/projects/job_interview/.venv/lib/python3.11/site-packages/orbit_predictor/coordinate_systems.py:68: RuntimeWarning: invalid value encountered in scalar divide\n",
      "  thet = atan(ecef_km[2] * a / (p * b))\n"
     ]
    }
   ],
   "source": [
    "latitude=[]\n",
    "longitude=[]\n",
    "timestamp=[]\n",
    "for i in range(n):\n",
    "    t=position_df.epoch[i]\n",
    "    t=datetime.fromisoformat(t)\n",
    "    x_teme=position_df.position_teme_km_x[i]\n",
    "    y_teme=position_df.position_teme_km_y[i]\n",
    "    z_teme=position_df.position_teme_km_z[i]\n",
    "    coordinates_in_ecef=eci_to_ecef((x_teme,y_teme,z_teme), gstime_from_datetime(t))\n",
    "    coordinates_in_lat_long=ecef_to_llh(coordinates_in_ecef)\n",
    "    timestamp.append(t)\n",
    "    latitude.append(coordinates_in_lat_long[0])\n",
    "    longitude.append(coordinates_in_lat_long[1])"
   ]
  },
  {
   "cell_type": "code",
   "execution_count": 13,
   "metadata": {},
   "outputs": [],
   "source": [
    "dict = {\"timestamp\":timestamp, \"latitude\":latitude , \"longitude\": longitude}"
   ]
  },
  {
   "cell_type": "code",
   "execution_count": 14,
   "metadata": {},
   "outputs": [],
   "source": [
    "df = pd.DataFrame(dict)"
   ]
  },
  {
   "cell_type": "code",
   "execution_count": 15,
   "metadata": {},
   "outputs": [
    {
     "data": {
      "text/html": [
       "<div>\n",
       "<style scoped>\n",
       "    .dataframe tbody tr th:only-of-type {\n",
       "        vertical-align: middle;\n",
       "    }\n",
       "\n",
       "    .dataframe tbody tr th {\n",
       "        vertical-align: top;\n",
       "    }\n",
       "\n",
       "    .dataframe thead th {\n",
       "        text-align: right;\n",
       "    }\n",
       "</style>\n",
       "<table border=\"1\" class=\"dataframe\">\n",
       "  <thead>\n",
       "    <tr style=\"text-align: right;\">\n",
       "      <th></th>\n",
       "      <th>timestamp</th>\n",
       "      <th>latitude</th>\n",
       "      <th>longitude</th>\n",
       "    </tr>\n",
       "  </thead>\n",
       "  <tbody>\n",
       "    <tr>\n",
       "      <th>0</th>\n",
       "      <td>2022-04-08 04:23:34+00:00</td>\n",
       "      <td>53.592993</td>\n",
       "      <td>-106.112427</td>\n",
       "    </tr>\n",
       "    <tr>\n",
       "      <th>1</th>\n",
       "      <td>2022-04-08 04:23:44+00:00</td>\n",
       "      <td>54.207126</td>\n",
       "      <td>-106.389614</td>\n",
       "    </tr>\n",
       "    <tr>\n",
       "      <th>2</th>\n",
       "      <td>2022-04-08 04:23:54+00:00</td>\n",
       "      <td>54.820699</td>\n",
       "      <td>-106.673873</td>\n",
       "    </tr>\n",
       "    <tr>\n",
       "      <th>3</th>\n",
       "      <td>2022-04-08 04:24:04+00:00</td>\n",
       "      <td>55.433688</td>\n",
       "      <td>-106.965577</td>\n",
       "    </tr>\n",
       "    <tr>\n",
       "      <th>4</th>\n",
       "      <td>2022-04-08 04:24:14+00:00</td>\n",
       "      <td>56.046065</td>\n",
       "      <td>-107.265130</td>\n",
       "    </tr>\n",
       "  </tbody>\n",
       "</table>\n",
       "</div>"
      ],
      "text/plain": [
       "                  timestamp   latitude   longitude\n",
       "0 2022-04-08 04:23:34+00:00  53.592993 -106.112427\n",
       "1 2022-04-08 04:23:44+00:00  54.207126 -106.389614\n",
       "2 2022-04-08 04:23:54+00:00  54.820699 -106.673873\n",
       "3 2022-04-08 04:24:04+00:00  55.433688 -106.965577\n",
       "4 2022-04-08 04:24:14+00:00  56.046065 -107.265130"
      ]
     },
     "execution_count": 15,
     "metadata": {},
     "output_type": "execute_result"
    }
   ],
   "source": [
    "df.head()"
   ]
  },
  {
   "cell_type": "code",
   "execution_count": 16,
   "metadata": {},
   "outputs": [
    {
     "data": {
      "text/html": [
       "<div>\n",
       "<style scoped>\n",
       "    .dataframe tbody tr th:only-of-type {\n",
       "        vertical-align: middle;\n",
       "    }\n",
       "\n",
       "    .dataframe tbody tr th {\n",
       "        vertical-align: top;\n",
       "    }\n",
       "\n",
       "    .dataframe thead th {\n",
       "        text-align: right;\n",
       "    }\n",
       "</style>\n",
       "<table border=\"1\" class=\"dataframe\">\n",
       "  <thead>\n",
       "    <tr style=\"text-align: right;\">\n",
       "      <th></th>\n",
       "      <th>timestamp</th>\n",
       "      <th>latitude</th>\n",
       "      <th>longitude</th>\n",
       "    </tr>\n",
       "  </thead>\n",
       "  <tbody>\n",
       "    <tr>\n",
       "      <th>259196</th>\n",
       "      <td>2022-05-08 04:22:54+00:00</td>\n",
       "      <td>-71.815127</td>\n",
       "      <td>60.717890</td>\n",
       "    </tr>\n",
       "    <tr>\n",
       "      <th>259197</th>\n",
       "      <td>2022-05-08 04:23:04+00:00</td>\n",
       "      <td>-72.382952</td>\n",
       "      <td>59.814925</td>\n",
       "    </tr>\n",
       "    <tr>\n",
       "      <th>259198</th>\n",
       "      <td>2022-05-08 04:23:14+00:00</td>\n",
       "      <td>-72.946749</td>\n",
       "      <td>58.856757</td>\n",
       "    </tr>\n",
       "    <tr>\n",
       "      <th>259199</th>\n",
       "      <td>2022-05-08 04:23:24+00:00</td>\n",
       "      <td>-73.506113</td>\n",
       "      <td>57.838177</td>\n",
       "    </tr>\n",
       "    <tr>\n",
       "      <th>259200</th>\n",
       "      <td>2022-05-08 04:23:34+00:00</td>\n",
       "      <td>-74.060586</td>\n",
       "      <td>56.753376</td>\n",
       "    </tr>\n",
       "  </tbody>\n",
       "</table>\n",
       "</div>"
      ],
      "text/plain": [
       "                       timestamp   latitude  longitude\n",
       "259196 2022-05-08 04:22:54+00:00 -71.815127  60.717890\n",
       "259197 2022-05-08 04:23:04+00:00 -72.382952  59.814925\n",
       "259198 2022-05-08 04:23:14+00:00 -72.946749  58.856757\n",
       "259199 2022-05-08 04:23:24+00:00 -73.506113  57.838177\n",
       "259200 2022-05-08 04:23:34+00:00 -74.060586  56.753376"
      ]
     },
     "execution_count": 16,
     "metadata": {},
     "output_type": "execute_result"
    }
   ],
   "source": [
    "df.tail()"
   ]
  },
  {
   "cell_type": "code",
   "execution_count": 17,
   "metadata": {},
   "outputs": [
    {
     "data": {
      "text/html": [
       "<div>\n",
       "<style scoped>\n",
       "    .dataframe tbody tr th:only-of-type {\n",
       "        vertical-align: middle;\n",
       "    }\n",
       "\n",
       "    .dataframe tbody tr th {\n",
       "        vertical-align: top;\n",
       "    }\n",
       "\n",
       "    .dataframe thead th {\n",
       "        text-align: right;\n",
       "    }\n",
       "</style>\n",
       "<table border=\"1\" class=\"dataframe\">\n",
       "  <thead>\n",
       "    <tr style=\"text-align: right;\">\n",
       "      <th></th>\n",
       "      <th>latitude</th>\n",
       "      <th>longitude</th>\n",
       "    </tr>\n",
       "  </thead>\n",
       "  <tbody>\n",
       "    <tr>\n",
       "      <th>count</th>\n",
       "      <td>251557.000000</td>\n",
       "      <td>259201.000000</td>\n",
       "    </tr>\n",
       "    <tr>\n",
       "      <th>mean</th>\n",
       "      <td>0.001904</td>\n",
       "      <td>1.344066</td>\n",
       "    </tr>\n",
       "    <tr>\n",
       "      <th>std</th>\n",
       "      <td>50.683572</td>\n",
       "      <td>103.731248</td>\n",
       "    </tr>\n",
       "    <tr>\n",
       "      <th>min</th>\n",
       "      <td>-82.539022</td>\n",
       "      <td>-179.999840</td>\n",
       "    </tr>\n",
       "    <tr>\n",
       "      <th>25%</th>\n",
       "      <td>-44.699820</td>\n",
       "      <td>-87.552399</td>\n",
       "    </tr>\n",
       "    <tr>\n",
       "      <th>50%</th>\n",
       "      <td>0.003212</td>\n",
       "      <td>0.000000</td>\n",
       "    </tr>\n",
       "    <tr>\n",
       "      <th>75%</th>\n",
       "      <td>44.715752</td>\n",
       "      <td>90.124227</td>\n",
       "    </tr>\n",
       "    <tr>\n",
       "      <th>max</th>\n",
       "      <td>82.539030</td>\n",
       "      <td>180.000000</td>\n",
       "    </tr>\n",
       "  </tbody>\n",
       "</table>\n",
       "</div>"
      ],
      "text/plain": [
       "            latitude      longitude\n",
       "count  251557.000000  259201.000000\n",
       "mean        0.001904       1.344066\n",
       "std        50.683572     103.731248\n",
       "min       -82.539022    -179.999840\n",
       "25%       -44.699820     -87.552399\n",
       "50%         0.003212       0.000000\n",
       "75%        44.715752      90.124227\n",
       "max        82.539030     180.000000"
      ]
     },
     "execution_count": 17,
     "metadata": {},
     "output_type": "execute_result"
    }
   ],
   "source": [
    "df.describe()"
   ]
  },
  {
   "cell_type": "code",
   "execution_count": 19,
   "metadata": {},
   "outputs": [],
   "source": [
    "import matplotlib.pyplot as plt\n"
   ]
  },
  {
   "cell_type": "code",
   "execution_count": 25,
   "metadata": {},
   "outputs": [
    {
     "data": {
      "image/png": "[encoded data removed]",
      "text/plain": [
       "<Figure size 1000x500 with 1 Axes>"
      ]
     },
     "metadata": {},
     "output_type": "display_data"
    }
   ],
   "source": [
    "# Create the scatter plot\n",
    "plt.figure(figsize=(10, 5))\n",
    "plt.scatter(longitude[0:1000], latitude[0:1000], c='blue',marker='.')#marker='o'\n",
    "\n",
    "# Add titles and labels\n",
    "plt.title('Scatter Plot of Latitude and Longitude')\n",
    "plt.xlabel('Longitude')\n",
    "plt.ylabel('Latitude')\n",
    "\n",
    "# Optionally add grid\n",
    "plt.grid(True)\n",
    "\n",
    "# Show the plot\n",
    "plt.show()"
   ]
  },
  {
   "cell_type": "code",
   "execution_count": null,
   "metadata": {},
   "outputs": [],
   "source": []
  }
 ],
 "metadata": {
  "kernelspec": {
   "display_name": ".venv",
   "language": "python",
   "name": "python3"
  },
  "language_info": {
   "codemirror_mode": {
    "name": "ipython",
    "version": 3
   },
   "file_extension": ".py",
   "mimetype": "text/x-python",
   "name": "python",
   "nbconvert_exporter": "python",
   "pygments_lexer": "ipython3",
   "version": "3.11.6"
  }
 },
 "nbformat": 4,
 "nbformat_minor": 2
}
