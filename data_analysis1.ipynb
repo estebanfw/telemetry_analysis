{
 "cells": [
  {
   "cell_type": "code",
   "execution_count": 1,
   "metadata": {},
   "outputs": [],
   "source": [
    "import json\n",
    "import pandas as pd\n",
    "import matplotlib.pyplot as plt\n",
    "from datetime import datetime, timezone\n"
   ]
  },
  {
   "cell_type": "code",
   "execution_count": 2,
   "metadata": {},
   "outputs": [],
   "source": [
    "# Load list of dictionaries\n",
    "with open(\"data/uptime_telemetry\", \"r\") as f:\n",
    "    a=json.load(f)"
   ]
  },
  {
   "cell_type": "code",
   "execution_count": 3,
   "metadata": {},
   "outputs": [],
   "source": [
    "# Convert list of dictionaries to dataframe\n",
    "uptime_df=pd.DataFrame.from_dict(a)"
   ]
  },
  {
   "cell_type": "code",
   "execution_count": 4,
   "metadata": {},
   "outputs": [],
   "source": [
    "# Read data from csv\n",
    "position_df=pd.read_csv(\"data/position_telemetry\")"
   ]
  },
  {
   "cell_type": "code",
   "execution_count": 5,
   "metadata": {},
   "outputs": [
    {
     "data": {
      "text/html": [
       "<div>\n",
       "<style scoped>\n",
       "    .dataframe tbody tr th:only-of-type {\n",
       "        vertical-align: middle;\n",
       "    }\n",
       "\n",
       "    .dataframe tbody tr th {\n",
       "        vertical-align: top;\n",
       "    }\n",
       "\n",
       "    .dataframe thead th {\n",
       "        text-align: right;\n",
       "    }\n",
       "</style>\n",
       "<table border=\"1\" class=\"dataframe\">\n",
       "  <thead>\n",
       "    <tr style=\"text-align: right;\">\n",
       "      <th></th>\n",
       "      <th>obc_received_timestamp</th>\n",
       "      <th>uptime</th>\n",
       "    </tr>\n",
       "  </thead>\n",
       "  <tbody>\n",
       "    <tr>\n",
       "      <th>0</th>\n",
       "      <td>1649393052581</td>\n",
       "      <td>0.0</td>\n",
       "    </tr>\n",
       "    <tr>\n",
       "      <th>1</th>\n",
       "      <td>1649393062746</td>\n",
       "      <td>0.0</td>\n",
       "    </tr>\n",
       "    <tr>\n",
       "      <th>2</th>\n",
       "      <td>1649393072686</td>\n",
       "      <td>0.0</td>\n",
       "    </tr>\n",
       "    <tr>\n",
       "      <th>3</th>\n",
       "      <td>1649393082416</td>\n",
       "      <td>0.0</td>\n",
       "    </tr>\n",
       "    <tr>\n",
       "      <th>4</th>\n",
       "      <td>1649393092608</td>\n",
       "      <td>0.0</td>\n",
       "    </tr>\n",
       "  </tbody>\n",
       "</table>\n",
       "</div>"
      ],
      "text/plain": [
       "   obc_received_timestamp  uptime\n",
       "0           1649393052581     0.0\n",
       "1           1649393062746     0.0\n",
       "2           1649393072686     0.0\n",
       "3           1649393082416     0.0\n",
       "4           1649393092608     0.0"
      ]
     },
     "execution_count": 5,
     "metadata": {},
     "output_type": "execute_result"
    }
   ],
   "source": [
    "uptime_df.head()"
   ]
  },
  {
   "cell_type": "code",
   "execution_count": 6,
   "metadata": {},
   "outputs": [
    {
     "data": {
      "text/html": [
       "<div>\n",
       "<style scoped>\n",
       "    .dataframe tbody tr th:only-of-type {\n",
       "        vertical-align: middle;\n",
       "    }\n",
       "\n",
       "    .dataframe tbody tr th {\n",
       "        vertical-align: top;\n",
       "    }\n",
       "\n",
       "    .dataframe thead th {\n",
       "        text-align: right;\n",
       "    }\n",
       "</style>\n",
       "<table border=\"1\" class=\"dataframe\">\n",
       "  <thead>\n",
       "    <tr style=\"text-align: right;\">\n",
       "      <th></th>\n",
       "      <th>epoch</th>\n",
       "      <th>position_teme_km_x</th>\n",
       "      <th>position_teme_km_y</th>\n",
       "      <th>position_teme_km_z</th>\n",
       "    </tr>\n",
       "  </thead>\n",
       "  <tbody>\n",
       "    <tr>\n",
       "      <th>0</th>\n",
       "      <td>2022-04-08 04:23:34+00:00</td>\n",
       "      <td>-3762.787201</td>\n",
       "      <td>1659.783861</td>\n",
       "      <td>5542.323345</td>\n",
       "    </tr>\n",
       "    <tr>\n",
       "      <th>1</th>\n",
       "      <td>2022-04-08 04:23:44+00:00</td>\n",
       "      <td>-3701.366216</td>\n",
       "      <td>1650.890358</td>\n",
       "      <td>5586.171051</td>\n",
       "    </tr>\n",
       "    <tr>\n",
       "      <th>2</th>\n",
       "      <td>2022-04-08 04:23:54+00:00</td>\n",
       "      <td>-3639.497837</td>\n",
       "      <td>1641.797305</td>\n",
       "      <td>5629.341661</td>\n",
       "    </tr>\n",
       "    <tr>\n",
       "      <th>3</th>\n",
       "      <td>2022-04-08 04:24:04+00:00</td>\n",
       "      <td>-3577.189573</td>\n",
       "      <td>1632.505816</td>\n",
       "      <td>5671.829991</td>\n",
       "    </tr>\n",
       "    <tr>\n",
       "      <th>4</th>\n",
       "      <td>2022-04-08 04:24:14+00:00</td>\n",
       "      <td>-3514.448987</td>\n",
       "      <td>1623.017030</td>\n",
       "      <td>5713.630940</td>\n",
       "    </tr>\n",
       "  </tbody>\n",
       "</table>\n",
       "</div>"
      ],
      "text/plain": [
       "                       epoch  position_teme_km_x  position_teme_km_y  \\\n",
       "0  2022-04-08 04:23:34+00:00        -3762.787201         1659.783861   \n",
       "1  2022-04-08 04:23:44+00:00        -3701.366216         1650.890358   \n",
       "2  2022-04-08 04:23:54+00:00        -3639.497837         1641.797305   \n",
       "3  2022-04-08 04:24:04+00:00        -3577.189573         1632.505816   \n",
       "4  2022-04-08 04:24:14+00:00        -3514.448987         1623.017030   \n",
       "\n",
       "   position_teme_km_z  \n",
       "0         5542.323345  \n",
       "1         5586.171051  \n",
       "2         5629.341661  \n",
       "3         5671.829991  \n",
       "4         5713.630940  "
      ]
     },
     "execution_count": 6,
     "metadata": {},
     "output_type": "execute_result"
    }
   ],
   "source": [
    "position_df.head()"
   ]
  },
  {
   "cell_type": "code",
   "execution_count": 7,
   "metadata": {},
   "outputs": [
    {
     "data": {
      "text/html": [
       "<div>\n",
       "<style scoped>\n",
       "    .dataframe tbody tr th:only-of-type {\n",
       "        vertical-align: middle;\n",
       "    }\n",
       "\n",
       "    .dataframe tbody tr th {\n",
       "        vertical-align: top;\n",
       "    }\n",
       "\n",
       "    .dataframe thead th {\n",
       "        text-align: right;\n",
       "    }\n",
       "</style>\n",
       "<table border=\"1\" class=\"dataframe\">\n",
       "  <thead>\n",
       "    <tr style=\"text-align: right;\">\n",
       "      <th></th>\n",
       "      <th>obc_received_timestamp</th>\n",
       "      <th>uptime</th>\n",
       "    </tr>\n",
       "  </thead>\n",
       "  <tbody>\n",
       "    <tr>\n",
       "      <th>count</th>\n",
       "      <td>4.095500e+04</td>\n",
       "      <td>40908.000000</td>\n",
       "    </tr>\n",
       "    <tr>\n",
       "      <th>mean</th>\n",
       "      <td>1.650698e+12</td>\n",
       "      <td>142.146951</td>\n",
       "    </tr>\n",
       "    <tr>\n",
       "      <th>std</th>\n",
       "      <td>7.461088e+08</td>\n",
       "      <td>144.896225</td>\n",
       "    </tr>\n",
       "    <tr>\n",
       "      <th>min</th>\n",
       "      <td>1.649393e+12</td>\n",
       "      <td>-1.000000</td>\n",
       "    </tr>\n",
       "    <tr>\n",
       "      <th>25%</th>\n",
       "      <td>1.650047e+12</td>\n",
       "      <td>0.000000</td>\n",
       "    </tr>\n",
       "    <tr>\n",
       "      <th>50%</th>\n",
       "      <td>1.650713e+12</td>\n",
       "      <td>100.097582</td>\n",
       "    </tr>\n",
       "    <tr>\n",
       "      <th>75%</th>\n",
       "      <td>1.651338e+12</td>\n",
       "      <td>267.928093</td>\n",
       "    </tr>\n",
       "    <tr>\n",
       "      <th>max</th>\n",
       "      <td>1.651986e+12</td>\n",
       "      <td>434.000000</td>\n",
       "    </tr>\n",
       "  </tbody>\n",
       "</table>\n",
       "</div>"
      ],
      "text/plain": [
       "       obc_received_timestamp        uptime\n",
       "count            4.095500e+04  40908.000000\n",
       "mean             1.650698e+12    142.146951\n",
       "std              7.461088e+08    144.896225\n",
       "min              1.649393e+12     -1.000000\n",
       "25%              1.650047e+12      0.000000\n",
       "50%              1.650713e+12    100.097582\n",
       "75%              1.651338e+12    267.928093\n",
       "max              1.651986e+12    434.000000"
      ]
     },
     "execution_count": 7,
     "metadata": {},
     "output_type": "execute_result"
    }
   ],
   "source": [
    "uptime_df.describe()"
   ]
  },
  {
   "cell_type": "code",
   "execution_count": 8,
   "metadata": {},
   "outputs": [
    {
     "data": {
      "text/plain": [
       "(40955, 2)"
      ]
     },
     "execution_count": 8,
     "metadata": {},
     "output_type": "execute_result"
    }
   ],
   "source": [
    "uptime_df.shape"
   ]
  },
  {
   "cell_type": "code",
   "execution_count": 9,
   "metadata": {},
   "outputs": [
    {
     "data": {
      "text/html": [
       "<div>\n",
       "<style scoped>\n",
       "    .dataframe tbody tr th:only-of-type {\n",
       "        vertical-align: middle;\n",
       "    }\n",
       "\n",
       "    .dataframe tbody tr th {\n",
       "        vertical-align: top;\n",
       "    }\n",
       "\n",
       "    .dataframe thead th {\n",
       "        text-align: right;\n",
       "    }\n",
       "</style>\n",
       "<table border=\"1\" class=\"dataframe\">\n",
       "  <thead>\n",
       "    <tr style=\"text-align: right;\">\n",
       "      <th></th>\n",
       "      <th>position_teme_km_x</th>\n",
       "      <th>position_teme_km_y</th>\n",
       "      <th>position_teme_km_z</th>\n",
       "    </tr>\n",
       "  </thead>\n",
       "  <tbody>\n",
       "    <tr>\n",
       "      <th>count</th>\n",
       "      <td>259201.000000</td>\n",
       "      <td>259201.000000</td>\n",
       "      <td>259201.000000</td>\n",
       "    </tr>\n",
       "    <tr>\n",
       "      <th>mean</th>\n",
       "      <td>-0.393081</td>\n",
       "      <td>0.271389</td>\n",
       "      <td>-0.270656</td>\n",
       "    </tr>\n",
       "    <tr>\n",
       "      <th>std</th>\n",
       "      <td>4759.904379</td>\n",
       "      <td>941.116968</td>\n",
       "      <td>4770.815777</td>\n",
       "    </tr>\n",
       "    <tr>\n",
       "      <th>min</th>\n",
       "      <td>-6908.438359</td>\n",
       "      <td>-2081.450259</td>\n",
       "      <td>-6849.347933</td>\n",
       "    </tr>\n",
       "    <tr>\n",
       "      <th>25%</th>\n",
       "      <td>-4712.319227</td>\n",
       "      <td>-824.230991</td>\n",
       "      <td>-4728.627773</td>\n",
       "    </tr>\n",
       "    <tr>\n",
       "      <th>50%</th>\n",
       "      <td>0.000000</td>\n",
       "      <td>0.000000</td>\n",
       "      <td>0.000000</td>\n",
       "    </tr>\n",
       "    <tr>\n",
       "      <th>75%</th>\n",
       "      <td>4711.192501</td>\n",
       "      <td>824.904404</td>\n",
       "      <td>4727.199181</td>\n",
       "    </tr>\n",
       "    <tr>\n",
       "      <th>max</th>\n",
       "      <td>6909.323202</td>\n",
       "      <td>2080.797718</td>\n",
       "      <td>6846.775883</td>\n",
       "    </tr>\n",
       "  </tbody>\n",
       "</table>\n",
       "</div>"
      ],
      "text/plain": [
       "       position_teme_km_x  position_teme_km_y  position_teme_km_z\n",
       "count       259201.000000       259201.000000       259201.000000\n",
       "mean            -0.393081            0.271389           -0.270656\n",
       "std           4759.904379          941.116968         4770.815777\n",
       "min          -6908.438359        -2081.450259        -6849.347933\n",
       "25%          -4712.319227         -824.230991        -4728.627773\n",
       "50%              0.000000            0.000000            0.000000\n",
       "75%           4711.192501          824.904404         4727.199181\n",
       "max           6909.323202         2080.797718         6846.775883"
      ]
     },
     "execution_count": 9,
     "metadata": {},
     "output_type": "execute_result"
    }
   ],
   "source": [
    "position_df.describe()"
   ]
  },
  {
   "cell_type": "code",
   "execution_count": 10,
   "metadata": {},
   "outputs": [
    {
     "data": {
      "text/plain": [
       "(259201, 4)"
      ]
     },
     "execution_count": 10,
     "metadata": {},
     "output_type": "execute_result"
    }
   ],
   "source": [
    "position_df.shape"
   ]
  },
  {
   "cell_type": "code",
   "execution_count": 11,
   "metadata": {},
   "outputs": [
    {
     "data": {
      "text/plain": [
       "Index(['obc_received_timestamp', 'uptime'], dtype='object')"
      ]
     },
     "execution_count": 11,
     "metadata": {},
     "output_type": "execute_result"
    }
   ],
   "source": [
    "uptime_df.columns"
   ]
  },
  {
   "cell_type": "code",
   "execution_count": 12,
   "metadata": {},
   "outputs": [
    {
     "data": {
      "text/html": [
       "<div>\n",
       "<style scoped>\n",
       "    .dataframe tbody tr th:only-of-type {\n",
       "        vertical-align: middle;\n",
       "    }\n",
       "\n",
       "    .dataframe tbody tr th {\n",
       "        vertical-align: top;\n",
       "    }\n",
       "\n",
       "    .dataframe thead th {\n",
       "        text-align: right;\n",
       "    }\n",
       "</style>\n",
       "<table border=\"1\" class=\"dataframe\">\n",
       "  <thead>\n",
       "    <tr style=\"text-align: right;\">\n",
       "      <th></th>\n",
       "      <th>obc_received_timestamp</th>\n",
       "      <th>uptime</th>\n",
       "    </tr>\n",
       "  </thead>\n",
       "  <tbody>\n",
       "    <tr>\n",
       "      <th>0</th>\n",
       "      <td>1649393052581</td>\n",
       "      <td>0.0</td>\n",
       "    </tr>\n",
       "    <tr>\n",
       "      <th>1</th>\n",
       "      <td>1649393062746</td>\n",
       "      <td>0.0</td>\n",
       "    </tr>\n",
       "    <tr>\n",
       "      <th>2</th>\n",
       "      <td>1649393072686</td>\n",
       "      <td>0.0</td>\n",
       "    </tr>\n",
       "    <tr>\n",
       "      <th>3</th>\n",
       "      <td>1649393082416</td>\n",
       "      <td>0.0</td>\n",
       "    </tr>\n",
       "    <tr>\n",
       "      <th>4</th>\n",
       "      <td>1649393092608</td>\n",
       "      <td>0.0</td>\n",
       "    </tr>\n",
       "  </tbody>\n",
       "</table>\n",
       "</div>"
      ],
      "text/plain": [
       "   obc_received_timestamp  uptime\n",
       "0           1649393052581     0.0\n",
       "1           1649393062746     0.0\n",
       "2           1649393072686     0.0\n",
       "3           1649393082416     0.0\n",
       "4           1649393092608     0.0"
      ]
     },
     "execution_count": 12,
     "metadata": {},
     "output_type": "execute_result"
    }
   ],
   "source": [
    "uptime_df.head()"
   ]
  },
  {
   "cell_type": "code",
   "execution_count": null,
   "metadata": {},
   "outputs": [],
   "source": []
  },
  {
   "cell_type": "code",
   "execution_count": null,
   "metadata": {},
   "outputs": [],
   "source": []
  },
  {
   "cell_type": "code",
   "execution_count": 13,
   "metadata": {},
   "outputs": [
    {
     "data": {
      "text/plain": [
       "Index(['obc_received_timestamp', 'uptime'], dtype='object')"
      ]
     },
     "execution_count": 13,
     "metadata": {},
     "output_type": "execute_result"
    }
   ],
   "source": [
    "uptime_df.columns"
   ]
  },
  {
   "cell_type": "code",
   "execution_count": 14,
   "metadata": {},
   "outputs": [
    {
     "data": {
      "text/plain": [
       "1649393052581"
      ]
     },
     "execution_count": 14,
     "metadata": {},
     "output_type": "execute_result"
    }
   ],
   "source": [
    "uptime_df.obc_received_timestamp[0]"
   ]
  },
  {
   "cell_type": "code",
   "execution_count": 15,
   "metadata": {},
   "outputs": [
    {
     "data": {
      "text/plain": [
       "13"
      ]
     },
     "execution_count": 15,
     "metadata": {},
     "output_type": "execute_result"
    }
   ],
   "source": [
    "len(str(uptime_df.obc_received_timestamp[0]))"
   ]
  },
  {
   "cell_type": "code",
   "execution_count": 16,
   "metadata": {},
   "outputs": [
    {
     "name": "stdout",
     "output_type": "stream",
     "text": [
      "UTC datetime: 2022-04-08 04:44:12.581000+00:00\n"
     ]
    }
   ],
   "source": [
    "# Example Unix timestamp\n",
    "unix_timestamp_ms = 1649393052581  \n",
    "unix_timestamp_s = unix_timestamp_ms / 1000.0  # Corresponds to '2022-08-07 15:00:00 UTC'\n",
    "\n",
    "# Convert Unix timestamp to datetime in UTC\n",
    "utc_datetime = datetime.fromtimestamp(unix_timestamp_s,timezone.utc)\n",
    "print(\"UTC datetime:\", utc_datetime)"
   ]
  },
  {
   "cell_type": "code",
   "execution_count": 17,
   "metadata": {},
   "outputs": [],
   "source": [
    "uptime_df[\"timestamp\"]=uptime_df['obc_received_timestamp'].apply(lambda x: (datetime.fromtimestamp(x/1000.0,timezone.utc)))\n"
   ]
  },
  {
   "cell_type": "code",
   "execution_count": 18,
   "metadata": {},
   "outputs": [],
   "source": [
    "unix_ts=list(uptime_df.obc_received_timestamp)\n",
    "timestamp=list(uptime_df.timestamp)\n",
    "uptime=list(uptime_df.uptime)\n",
    "m=1000"
   ]
  },
  {
   "cell_type": "code",
   "execution_count": 19,
   "metadata": {},
   "outputs": [
    {
     "data": {
      "image/png": "[encoded data removed]",
      "text/plain": [
       "<Figure size 640x480 with 1 Axes>"
      ]
     },
     "metadata": {},
     "output_type": "display_data"
    }
   ],
   "source": [
    "# Create the scatter plot\n",
    "plt.figure()\n",
    "plt.scatter(timestamp[0:m],uptime[0:m], c='blue',marker='.')#marker='o'\n",
    "\n",
    "# Add titles and labels\n",
    "plt.title('Scatter Plot of Latitude and Longitude')\n",
    "plt.xlabel('TimeStamp')\n",
    "plt.ylabel('Uptime')\n",
    "\n",
    "# Optionally add grid\n",
    "plt.grid(True)\n",
    "\n",
    "# Show the plot\n",
    "plt.show()"
   ]
  },
  {
   "cell_type": "code",
   "execution_count": 20,
   "metadata": {},
   "outputs": [
    {
     "data": {
      "text/plain": [
       "Index(['obc_received_timestamp', 'uptime', 'timestamp'], dtype='object')"
      ]
     },
     "execution_count": 20,
     "metadata": {},
     "output_type": "execute_result"
    }
   ],
   "source": [
    "uptime_df.columns"
   ]
  },
  {
   "cell_type": "code",
   "execution_count": 21,
   "metadata": {},
   "outputs": [],
   "source": [
    "uptime_df.sort_values(by='timestamp', ascending=True,inplace=True)"
   ]
  },
  {
   "cell_type": "code",
   "execution_count": 22,
   "metadata": {},
   "outputs": [
    {
     "data": {
      "text/html": [
       "<div>\n",
       "<style scoped>\n",
       "    .dataframe tbody tr th:only-of-type {\n",
       "        vertical-align: middle;\n",
       "    }\n",
       "\n",
       "    .dataframe tbody tr th {\n",
       "        vertical-align: top;\n",
       "    }\n",
       "\n",
       "    .dataframe thead th {\n",
       "        text-align: right;\n",
       "    }\n",
       "</style>\n",
       "<table border=\"1\" class=\"dataframe\">\n",
       "  <thead>\n",
       "    <tr style=\"text-align: right;\">\n",
       "      <th></th>\n",
       "      <th>obc_received_timestamp</th>\n",
       "      <th>uptime</th>\n",
       "      <th>timestamp</th>\n",
       "    </tr>\n",
       "  </thead>\n",
       "  <tbody>\n",
       "    <tr>\n",
       "      <th>0</th>\n",
       "      <td>1649393052581</td>\n",
       "      <td>0.0</td>\n",
       "      <td>2022-04-08 04:44:12.581000+00:00</td>\n",
       "    </tr>\n",
       "    <tr>\n",
       "      <th>1</th>\n",
       "      <td>1649393062746</td>\n",
       "      <td>0.0</td>\n",
       "      <td>2022-04-08 04:44:22.746000+00:00</td>\n",
       "    </tr>\n",
       "    <tr>\n",
       "      <th>2</th>\n",
       "      <td>1649393072686</td>\n",
       "      <td>0.0</td>\n",
       "      <td>2022-04-08 04:44:32.686000+00:00</td>\n",
       "    </tr>\n",
       "    <tr>\n",
       "      <th>3</th>\n",
       "      <td>1649393082416</td>\n",
       "      <td>0.0</td>\n",
       "      <td>2022-04-08 04:44:42.416000+00:00</td>\n",
       "    </tr>\n",
       "    <tr>\n",
       "      <th>4</th>\n",
       "      <td>1649393092608</td>\n",
       "      <td>0.0</td>\n",
       "      <td>2022-04-08 04:44:52.608000+00:00</td>\n",
       "    </tr>\n",
       "  </tbody>\n",
       "</table>\n",
       "</div>"
      ],
      "text/plain": [
       "   obc_received_timestamp  uptime                        timestamp\n",
       "0           1649393052581     0.0 2022-04-08 04:44:12.581000+00:00\n",
       "1           1649393062746     0.0 2022-04-08 04:44:22.746000+00:00\n",
       "2           1649393072686     0.0 2022-04-08 04:44:32.686000+00:00\n",
       "3           1649393082416     0.0 2022-04-08 04:44:42.416000+00:00\n",
       "4           1649393092608     0.0 2022-04-08 04:44:52.608000+00:00"
      ]
     },
     "execution_count": 22,
     "metadata": {},
     "output_type": "execute_result"
    }
   ],
   "source": [
    "uptime_df.head()"
   ]
  },
  {
   "cell_type": "code",
   "execution_count": 23,
   "metadata": {},
   "outputs": [],
   "source": [
    "# Order columns again for simplifying things in the future\n",
    "uptime_df=uptime_df.iloc[:,[2,0,1]]"
   ]
  },
  {
   "cell_type": "markdown",
   "metadata": {},
   "source": [
    "### Data consinstency check: null values and negative values"
   ]
  },
  {
   "cell_type": "markdown",
   "metadata": {},
   "source": [
    "I will not discard null values as a first step because these might be related with the obc anomaly.\n",
    "The timestamp of the null values might contribute to understand the problem."
   ]
  },
  {
   "cell_type": "code",
   "execution_count": 24,
   "metadata": {},
   "outputs": [
    {
     "data": {
      "text/plain": [
       "timestamp  obc_received_timestamp  uptime\n",
       "False      False                   False     40908\n",
       "                                   True         47\n",
       "Name: count, dtype: int64"
      ]
     },
     "execution_count": 24,
     "metadata": {},
     "output_type": "execute_result"
    }
   ],
   "source": [
    "uptime_df.isnull().value_counts()"
   ]
  },
  {
   "cell_type": "code",
   "execution_count": 25,
   "metadata": {},
   "outputs": [
    {
     "data": {
      "text/plain": [
       "timestamp  obc_received_timestamp  uptime\n",
       "False      False                   False     40908\n",
       "                                   True         47\n",
       "Name: count, dtype: int64"
      ]
     },
     "execution_count": 25,
     "metadata": {},
     "output_type": "execute_result"
    }
   ],
   "source": [
    "uptime_df.isna().value_counts()"
   ]
  },
  {
   "cell_type": "code",
   "execution_count": 26,
   "metadata": {},
   "outputs": [],
   "source": [
    "null_mask = uptime_df.isnull().any(axis=1)\n",
    "null_rows = uptime_df[null_mask]"
   ]
  },
  {
   "cell_type": "code",
   "execution_count": 27,
   "metadata": {},
   "outputs": [
    {
     "data": {
      "text/html": [
       "<div>\n",
       "<style scoped>\n",
       "    .dataframe tbody tr th:only-of-type {\n",
       "        vertical-align: middle;\n",
       "    }\n",
       "\n",
       "    .dataframe tbody tr th {\n",
       "        vertical-align: top;\n",
       "    }\n",
       "\n",
       "    .dataframe thead th {\n",
       "        text-align: right;\n",
       "    }\n",
       "</style>\n",
       "<table border=\"1\" class=\"dataframe\">\n",
       "  <thead>\n",
       "    <tr style=\"text-align: right;\">\n",
       "      <th></th>\n",
       "      <th>timestamp</th>\n",
       "      <th>obc_received_timestamp</th>\n",
       "      <th>uptime</th>\n",
       "    </tr>\n",
       "  </thead>\n",
       "  <tbody>\n",
       "    <tr>\n",
       "      <th>516</th>\n",
       "      <td>2022-04-08 12:51:32.472000+00:00</td>\n",
       "      <td>1649422292472</td>\n",
       "      <td>NaN</td>\n",
       "    </tr>\n",
       "    <tr>\n",
       "      <th>745</th>\n",
       "      <td>2022-04-08 18:14:52.031000+00:00</td>\n",
       "      <td>1649441692031</td>\n",
       "      <td>NaN</td>\n",
       "    </tr>\n",
       "    <tr>\n",
       "      <th>1910</th>\n",
       "      <td>2022-04-09 13:20:08.923000+00:00</td>\n",
       "      <td>1649510408923</td>\n",
       "      <td>NaN</td>\n",
       "    </tr>\n",
       "    <tr>\n",
       "      <th>3191</th>\n",
       "      <td>2022-04-10 14:57:44.463000+00:00</td>\n",
       "      <td>1649602664463</td>\n",
       "      <td>NaN</td>\n",
       "    </tr>\n",
       "    <tr>\n",
       "      <th>3584</th>\n",
       "      <td>2022-04-10 20:33:32.356000+00:00</td>\n",
       "      <td>1649622812356</td>\n",
       "      <td>NaN</td>\n",
       "    </tr>\n",
       "  </tbody>\n",
       "</table>\n",
       "</div>"
      ],
      "text/plain": [
       "                            timestamp  obc_received_timestamp  uptime\n",
       "516  2022-04-08 12:51:32.472000+00:00           1649422292472     NaN\n",
       "745  2022-04-08 18:14:52.031000+00:00           1649441692031     NaN\n",
       "1910 2022-04-09 13:20:08.923000+00:00           1649510408923     NaN\n",
       "3191 2022-04-10 14:57:44.463000+00:00           1649602664463     NaN\n",
       "3584 2022-04-10 20:33:32.356000+00:00           1649622812356     NaN"
      ]
     },
     "execution_count": 27,
     "metadata": {},
     "output_type": "execute_result"
    }
   ],
   "source": [
    "null_rows.head()"
   ]
  },
  {
   "cell_type": "code",
   "execution_count": 28,
   "metadata": {},
   "outputs": [
    {
     "data": {
      "text/plain": [
       "uptime\n",
       "False    40866\n",
       "True        89\n",
       "Name: count, dtype: int64"
      ]
     },
     "execution_count": 28,
     "metadata": {},
     "output_type": "execute_result"
    }
   ],
   "source": [
    "(uptime_df['uptime'] < 0).value_counts()"
   ]
  },
  {
   "cell_type": "code",
   "execution_count": 29,
   "metadata": {},
   "outputs": [],
   "source": [
    "negative_values_mask=uptime_df['uptime'] < 0"
   ]
  },
  {
   "cell_type": "code",
   "execution_count": 30,
   "metadata": {},
   "outputs": [],
   "source": [
    "negative_values = uptime_df[negative_values_mask]"
   ]
  },
  {
   "cell_type": "code",
   "execution_count": 31,
   "metadata": {},
   "outputs": [
    {
     "data": {
      "text/html": [
       "<div>\n",
       "<style scoped>\n",
       "    .dataframe tbody tr th:only-of-type {\n",
       "        vertical-align: middle;\n",
       "    }\n",
       "\n",
       "    .dataframe tbody tr th {\n",
       "        vertical-align: top;\n",
       "    }\n",
       "\n",
       "    .dataframe thead th {\n",
       "        text-align: right;\n",
       "    }\n",
       "</style>\n",
       "<table border=\"1\" class=\"dataframe\">\n",
       "  <thead>\n",
       "    <tr style=\"text-align: right;\">\n",
       "      <th></th>\n",
       "      <th>timestamp</th>\n",
       "      <th>obc_received_timestamp</th>\n",
       "      <th>uptime</th>\n",
       "    </tr>\n",
       "  </thead>\n",
       "  <tbody>\n",
       "    <tr>\n",
       "      <th>905</th>\n",
       "      <td>2022-04-08 20:47:13.316000+00:00</td>\n",
       "      <td>1649450833316</td>\n",
       "      <td>-1.0</td>\n",
       "    </tr>\n",
       "    <tr>\n",
       "      <th>1020</th>\n",
       "      <td>2022-04-08 22:31:41.144000+00:00</td>\n",
       "      <td>1649457101144</td>\n",
       "      <td>-1.0</td>\n",
       "    </tr>\n",
       "    <tr>\n",
       "      <th>1832</th>\n",
       "      <td>2022-04-09 11:51:04.600000+00:00</td>\n",
       "      <td>1649505064600</td>\n",
       "      <td>-1.0</td>\n",
       "    </tr>\n",
       "    <tr>\n",
       "      <th>2290</th>\n",
       "      <td>2022-04-09 21:21:10.844000+00:00</td>\n",
       "      <td>1649539270844</td>\n",
       "      <td>-1.0</td>\n",
       "    </tr>\n",
       "    <tr>\n",
       "      <th>2429</th>\n",
       "      <td>2022-04-10 00:06:27.975000+00:00</td>\n",
       "      <td>1649549187975</td>\n",
       "      <td>-1.0</td>\n",
       "    </tr>\n",
       "    <tr>\n",
       "      <th>...</th>\n",
       "      <td>...</td>\n",
       "      <td>...</td>\n",
       "      <td>...</td>\n",
       "    </tr>\n",
       "    <tr>\n",
       "      <th>39006</th>\n",
       "      <td>2022-05-06 18:08:21.771000+00:00</td>\n",
       "      <td>1651860501771</td>\n",
       "      <td>-1.0</td>\n",
       "    </tr>\n",
       "    <tr>\n",
       "      <th>40042</th>\n",
       "      <td>2022-05-07 12:53:12.303000+00:00</td>\n",
       "      <td>1651927992303</td>\n",
       "      <td>-1.0</td>\n",
       "    </tr>\n",
       "    <tr>\n",
       "      <th>40475</th>\n",
       "      <td>2022-05-07 20:41:08.817000+00:00</td>\n",
       "      <td>1651956068817</td>\n",
       "      <td>-1.0</td>\n",
       "    </tr>\n",
       "    <tr>\n",
       "      <th>40601</th>\n",
       "      <td>2022-05-07 23:11:09.618000+00:00</td>\n",
       "      <td>1651965069618</td>\n",
       "      <td>-1.0</td>\n",
       "    </tr>\n",
       "    <tr>\n",
       "      <th>40897</th>\n",
       "      <td>2022-05-08 03:37:55.546000+00:00</td>\n",
       "      <td>1651981075546</td>\n",
       "      <td>-1.0</td>\n",
       "    </tr>\n",
       "  </tbody>\n",
       "</table>\n",
       "<p>89 rows × 3 columns</p>\n",
       "</div>"
      ],
      "text/plain": [
       "                             timestamp  obc_received_timestamp  uptime\n",
       "905   2022-04-08 20:47:13.316000+00:00           1649450833316    -1.0\n",
       "1020  2022-04-08 22:31:41.144000+00:00           1649457101144    -1.0\n",
       "1832  2022-04-09 11:51:04.600000+00:00           1649505064600    -1.0\n",
       "2290  2022-04-09 21:21:10.844000+00:00           1649539270844    -1.0\n",
       "2429  2022-04-10 00:06:27.975000+00:00           1649549187975    -1.0\n",
       "...                                ...                     ...     ...\n",
       "39006 2022-05-06 18:08:21.771000+00:00           1651860501771    -1.0\n",
       "40042 2022-05-07 12:53:12.303000+00:00           1651927992303    -1.0\n",
       "40475 2022-05-07 20:41:08.817000+00:00           1651956068817    -1.0\n",
       "40601 2022-05-07 23:11:09.618000+00:00           1651965069618    -1.0\n",
       "40897 2022-05-08 03:37:55.546000+00:00           1651981075546    -1.0\n",
       "\n",
       "[89 rows x 3 columns]"
      ]
     },
     "execution_count": 31,
     "metadata": {},
     "output_type": "execute_result"
    }
   ],
   "source": [
    "negative_values"
   ]
  },
  {
   "cell_type": "markdown",
   "metadata": {},
   "source": [
    "### Window"
   ]
  },
  {
   "cell_type": "code",
   "execution_count": 32,
   "metadata": {},
   "outputs": [
    {
     "data": {
      "text/plain": [
       "(40955, 3)"
      ]
     },
     "execution_count": 32,
     "metadata": {},
     "output_type": "execute_result"
    }
   ],
   "source": [
    "# I will drop null values now\n",
    "uptime_df.shape\n"
   ]
  },
  {
   "cell_type": "code",
   "execution_count": 33,
   "metadata": {},
   "outputs": [],
   "source": [
    "uptime_df.dropna(inplace=True)"
   ]
  },
  {
   "cell_type": "code",
   "execution_count": 34,
   "metadata": {},
   "outputs": [
    {
     "data": {
      "text/plain": [
       "(40908, 3)"
      ]
     },
     "execution_count": 34,
     "metadata": {},
     "output_type": "execute_result"
    }
   ],
   "source": [
    "uptime_df.shape"
   ]
  },
  {
   "cell_type": "code",
   "execution_count": 35,
   "metadata": {},
   "outputs": [],
   "source": [
    "# Detect window start"
   ]
  },
  {
   "cell_type": "code",
   "execution_count": 36,
   "metadata": {},
   "outputs": [],
   "source": [
    "# number of rows to shift\n",
    "w=1"
   ]
  },
  {
   "cell_type": "code",
   "execution_count": 37,
   "metadata": {},
   "outputs": [],
   "source": [
    "# Check if the uptime value is equal to the previous row and if it is zero uptime\n",
    "uptime_df['same_as_last_value_and_value_is_zero'] =  (uptime_df['uptime'] == uptime_df['uptime'].shift(w)) & (uptime_df['uptime'] == 0)\n"
   ]
  },
  {
   "cell_type": "code",
   "execution_count": 38,
   "metadata": {},
   "outputs": [
    {
     "data": {
      "text/plain": [
       "same_as_last_value_and_value_is_zero\n",
       "False    28059\n",
       "True     12849\n",
       "Name: count, dtype: int64"
      ]
     },
     "execution_count": 38,
     "metadata": {},
     "output_type": "execute_result"
    }
   ],
   "source": [
    "uptime_df['same_as_last_value_and_value_is_zero'].value_counts()"
   ]
  },
  {
   "cell_type": "code",
   "execution_count": 39,
   "metadata": {},
   "outputs": [],
   "source": [
    "booting_mask=uptime_df['same_as_last_value_and_value_is_zero']"
   ]
  },
  {
   "cell_type": "code",
   "execution_count": 40,
   "metadata": {},
   "outputs": [],
   "source": [
    "#uptime_df['different_value'] =  uptime_df['uptime'] != uptime_df['uptime'].shift(w)\n"
   ]
  },
  {
   "cell_type": "code",
   "execution_count": 41,
   "metadata": {},
   "outputs": [],
   "source": [
    "#uptime_df['different_value'].value_counts()"
   ]
  },
  {
   "cell_type": "code",
   "execution_count": 42,
   "metadata": {},
   "outputs": [
    {
     "data": {
      "text/html": [
       "<div>\n",
       "<style scoped>\n",
       "    .dataframe tbody tr th:only-of-type {\n",
       "        vertical-align: middle;\n",
       "    }\n",
       "\n",
       "    .dataframe tbody tr th {\n",
       "        vertical-align: top;\n",
       "    }\n",
       "\n",
       "    .dataframe thead th {\n",
       "        text-align: right;\n",
       "    }\n",
       "</style>\n",
       "<table border=\"1\" class=\"dataframe\">\n",
       "  <thead>\n",
       "    <tr style=\"text-align: right;\">\n",
       "      <th></th>\n",
       "      <th>timestamp</th>\n",
       "      <th>obc_received_timestamp</th>\n",
       "      <th>uptime</th>\n",
       "      <th>same_as_last_value_and_value_is_zero</th>\n",
       "    </tr>\n",
       "  </thead>\n",
       "  <tbody>\n",
       "    <tr>\n",
       "      <th>0</th>\n",
       "      <td>2022-04-08 04:44:12.581000+00:00</td>\n",
       "      <td>1649393052581</td>\n",
       "      <td>0.000000</td>\n",
       "      <td>False</td>\n",
       "    </tr>\n",
       "    <tr>\n",
       "      <th>1</th>\n",
       "      <td>2022-04-08 04:44:22.746000+00:00</td>\n",
       "      <td>1649393062746</td>\n",
       "      <td>0.000000</td>\n",
       "      <td>True</td>\n",
       "    </tr>\n",
       "    <tr>\n",
       "      <th>2</th>\n",
       "      <td>2022-04-08 04:44:32.686000+00:00</td>\n",
       "      <td>1649393072686</td>\n",
       "      <td>0.000000</td>\n",
       "      <td>True</td>\n",
       "    </tr>\n",
       "    <tr>\n",
       "      <th>3</th>\n",
       "      <td>2022-04-08 04:44:42.416000+00:00</td>\n",
       "      <td>1649393082416</td>\n",
       "      <td>0.000000</td>\n",
       "      <td>True</td>\n",
       "    </tr>\n",
       "    <tr>\n",
       "      <th>4</th>\n",
       "      <td>2022-04-08 04:44:52.608000+00:00</td>\n",
       "      <td>1649393092608</td>\n",
       "      <td>0.000000</td>\n",
       "      <td>True</td>\n",
       "    </tr>\n",
       "    <tr>\n",
       "      <th>...</th>\n",
       "      <td>...</td>\n",
       "      <td>...</td>\n",
       "      <td>...</td>\n",
       "      <td>...</td>\n",
       "    </tr>\n",
       "    <tr>\n",
       "      <th>40950</th>\n",
       "      <td>2022-05-08 04:51:10.063000+00:00</td>\n",
       "      <td>1651985470063</td>\n",
       "      <td>194.108080</td>\n",
       "      <td>False</td>\n",
       "    </tr>\n",
       "    <tr>\n",
       "      <th>40951</th>\n",
       "      <td>2022-05-08 04:51:19.689000+00:00</td>\n",
       "      <td>1651985479689</td>\n",
       "      <td>203.734508</td>\n",
       "      <td>False</td>\n",
       "    </tr>\n",
       "    <tr>\n",
       "      <th>40952</th>\n",
       "      <td>2022-05-08 04:51:29.848000+00:00</td>\n",
       "      <td>1651985489848</td>\n",
       "      <td>213.893375</td>\n",
       "      <td>False</td>\n",
       "    </tr>\n",
       "    <tr>\n",
       "      <th>40953</th>\n",
       "      <td>2022-05-08 04:51:39.906000+00:00</td>\n",
       "      <td>1651985499906</td>\n",
       "      <td>223.951156</td>\n",
       "      <td>False</td>\n",
       "    </tr>\n",
       "    <tr>\n",
       "      <th>40954</th>\n",
       "      <td>2022-05-08 04:51:49.825000+00:00</td>\n",
       "      <td>1651985509825</td>\n",
       "      <td>233.870157</td>\n",
       "      <td>False</td>\n",
       "    </tr>\n",
       "  </tbody>\n",
       "</table>\n",
       "<p>40908 rows × 4 columns</p>\n",
       "</div>"
      ],
      "text/plain": [
       "                             timestamp  obc_received_timestamp      uptime  \\\n",
       "0     2022-04-08 04:44:12.581000+00:00           1649393052581    0.000000   \n",
       "1     2022-04-08 04:44:22.746000+00:00           1649393062746    0.000000   \n",
       "2     2022-04-08 04:44:32.686000+00:00           1649393072686    0.000000   \n",
       "3     2022-04-08 04:44:42.416000+00:00           1649393082416    0.000000   \n",
       "4     2022-04-08 04:44:52.608000+00:00           1649393092608    0.000000   \n",
       "...                                ...                     ...         ...   \n",
       "40950 2022-05-08 04:51:10.063000+00:00           1651985470063  194.108080   \n",
       "40951 2022-05-08 04:51:19.689000+00:00           1651985479689  203.734508   \n",
       "40952 2022-05-08 04:51:29.848000+00:00           1651985489848  213.893375   \n",
       "40953 2022-05-08 04:51:39.906000+00:00           1651985499906  223.951156   \n",
       "40954 2022-05-08 04:51:49.825000+00:00           1651985509825  233.870157   \n",
       "\n",
       "       same_as_last_value_and_value_is_zero  \n",
       "0                                     False  \n",
       "1                                      True  \n",
       "2                                      True  \n",
       "3                                      True  \n",
       "4                                      True  \n",
       "...                                     ...  \n",
       "40950                                 False  \n",
       "40951                                 False  \n",
       "40952                                 False  \n",
       "40953                                 False  \n",
       "40954                                 False  \n",
       "\n",
       "[40908 rows x 4 columns]"
      ]
     },
     "execution_count": 42,
     "metadata": {},
     "output_type": "execute_result"
    }
   ],
   "source": [
    "uptime_df"
   ]
  },
  {
   "cell_type": "code",
   "execution_count": 43,
   "metadata": {},
   "outputs": [],
   "source": [
    "# Cooldown \n",
    "# same as last value BUT not zero value\n",
    "uptime_df['same_as_last_value_and_value_is_not_zero'] =  (uptime_df['uptime'] == uptime_df['uptime'].shift(w)) & (uptime_df['uptime'] != 0)\n"
   ]
  },
  {
   "cell_type": "code",
   "execution_count": 44,
   "metadata": {},
   "outputs": [],
   "source": [
    "cooldown_mask=uptime_df['same_as_last_value_and_value_is_not_zero']"
   ]
  },
  {
   "cell_type": "code",
   "execution_count": 45,
   "metadata": {},
   "outputs": [],
   "source": [
    "#uptime_df['is_booting_time'] =  uptime_df['same_as_last_value_and_value_is_zero'] == True\n"
   ]
  },
  {
   "cell_type": "code",
   "execution_count": 46,
   "metadata": {},
   "outputs": [
    {
     "data": {
      "text/html": [
       "<div>\n",
       "<style scoped>\n",
       "    .dataframe tbody tr th:only-of-type {\n",
       "        vertical-align: middle;\n",
       "    }\n",
       "\n",
       "    .dataframe tbody tr th {\n",
       "        vertical-align: top;\n",
       "    }\n",
       "\n",
       "    .dataframe thead th {\n",
       "        text-align: right;\n",
       "    }\n",
       "</style>\n",
       "<table border=\"1\" class=\"dataframe\">\n",
       "  <thead>\n",
       "    <tr style=\"text-align: right;\">\n",
       "      <th></th>\n",
       "      <th>timestamp</th>\n",
       "      <th>obc_received_timestamp</th>\n",
       "      <th>uptime</th>\n",
       "      <th>same_as_last_value_and_value_is_zero</th>\n",
       "      <th>same_as_last_value_and_value_is_not_zero</th>\n",
       "    </tr>\n",
       "  </thead>\n",
       "  <tbody>\n",
       "    <tr>\n",
       "      <th>0</th>\n",
       "      <td>2022-04-08 04:44:12.581000+00:00</td>\n",
       "      <td>1649393052581</td>\n",
       "      <td>0.0</td>\n",
       "      <td>False</td>\n",
       "      <td>False</td>\n",
       "    </tr>\n",
       "    <tr>\n",
       "      <th>1</th>\n",
       "      <td>2022-04-08 04:44:22.746000+00:00</td>\n",
       "      <td>1649393062746</td>\n",
       "      <td>0.0</td>\n",
       "      <td>True</td>\n",
       "      <td>False</td>\n",
       "    </tr>\n",
       "    <tr>\n",
       "      <th>2</th>\n",
       "      <td>2022-04-08 04:44:32.686000+00:00</td>\n",
       "      <td>1649393072686</td>\n",
       "      <td>0.0</td>\n",
       "      <td>True</td>\n",
       "      <td>False</td>\n",
       "    </tr>\n",
       "    <tr>\n",
       "      <th>3</th>\n",
       "      <td>2022-04-08 04:44:42.416000+00:00</td>\n",
       "      <td>1649393082416</td>\n",
       "      <td>0.0</td>\n",
       "      <td>True</td>\n",
       "      <td>False</td>\n",
       "    </tr>\n",
       "    <tr>\n",
       "      <th>4</th>\n",
       "      <td>2022-04-08 04:44:52.608000+00:00</td>\n",
       "      <td>1649393092608</td>\n",
       "      <td>0.0</td>\n",
       "      <td>True</td>\n",
       "      <td>False</td>\n",
       "    </tr>\n",
       "  </tbody>\n",
       "</table>\n",
       "</div>"
      ],
      "text/plain": [
       "                         timestamp  obc_received_timestamp  uptime  \\\n",
       "0 2022-04-08 04:44:12.581000+00:00           1649393052581     0.0   \n",
       "1 2022-04-08 04:44:22.746000+00:00           1649393062746     0.0   \n",
       "2 2022-04-08 04:44:32.686000+00:00           1649393072686     0.0   \n",
       "3 2022-04-08 04:44:42.416000+00:00           1649393082416     0.0   \n",
       "4 2022-04-08 04:44:52.608000+00:00           1649393092608     0.0   \n",
       "\n",
       "   same_as_last_value_and_value_is_zero  \\\n",
       "0                                 False   \n",
       "1                                  True   \n",
       "2                                  True   \n",
       "3                                  True   \n",
       "4                                  True   \n",
       "\n",
       "   same_as_last_value_and_value_is_not_zero  \n",
       "0                                     False  \n",
       "1                                     False  \n",
       "2                                     False  \n",
       "3                                     False  \n",
       "4                                     False  "
      ]
     },
     "execution_count": 46,
     "metadata": {},
     "output_type": "execute_result"
    }
   ],
   "source": [
    "uptime_df.head()"
   ]
  },
  {
   "cell_type": "code",
   "execution_count": 47,
   "metadata": {},
   "outputs": [],
   "source": [
    "import numpy as np"
   ]
  },
  {
   "cell_type": "code",
   "execution_count": 48,
   "metadata": {},
   "outputs": [],
   "source": [
    "# List of conditions\n",
    "conditions = [\n",
    "        (booting_mask == True) ,\n",
    "        (booting_mask == False) & (cooldown_mask == False),\n",
    "        (cooldown_mask == True)\n",
    "]\n",
    "# List of values to return\n",
    "choices  = [\n",
    "       \"booting\",\n",
    "       \"active\",\n",
    "       \"cooldown\"\n",
    "]\n",
    "# create a new column in the DF based on the conditions\n",
    "uptime_df[\"status\"] = np.select(conditions, choices, \"ERROR\")"
   ]
  },
  {
   "cell_type": "code",
   "execution_count": 49,
   "metadata": {},
   "outputs": [],
   "source": [
    "# List of conditions\n",
    "conditions = [\n",
    "        (uptime_df[\"status\"] == \"active\") & (uptime_df[\"uptime\"] == 0),\n",
    "        (uptime_df[\"status\"] == \"booting\"),\n",
    "        (uptime_df[\"status\"] == \"active\") & (uptime_df[\"uptime\"] != 0),\n",
    "        (uptime_df[\"status\"] == \"cooldown\")\n",
    "]\n",
    "# List of values to return\n",
    "choices  = [\n",
    "       \"start_boot\",\n",
    "       \"booting\",\n",
    "       \"active\",\n",
    "       \"cooldown\"\n",
    "]\n",
    "# create a new column in the DF based on the conditions\n",
    "uptime_df[\"state\"] = np.select(conditions, choices, \"ERROR\")"
   ]
  },
  {
   "cell_type": "code",
   "execution_count": 50,
   "metadata": {},
   "outputs": [],
   "source": [
    "#((booting_mask == False) & (cooldown_mask == False) & uptime_df[\"uptime\"]==0)"
   ]
  },
  {
   "cell_type": "code",
   "execution_count": 51,
   "metadata": {},
   "outputs": [
    {
     "data": {
      "text/plain": [
       "Index(['timestamp', 'obc_received_timestamp', 'uptime',\n",
       "       'same_as_last_value_and_value_is_zero',\n",
       "       'same_as_last_value_and_value_is_not_zero', 'status', 'state'],\n",
       "      dtype='object')"
      ]
     },
     "execution_count": 51,
     "metadata": {},
     "output_type": "execute_result"
    }
   ],
   "source": [
    "uptime_df.columns"
   ]
  },
  {
   "cell_type": "code",
   "execution_count": 52,
   "metadata": {},
   "outputs": [],
   "source": [
    "uptime_df.drop(['same_as_last_value_and_value_is_zero', 'same_as_last_value_and_value_is_not_zero',\"status\"], axis=1,inplace=True)"
   ]
  },
  {
   "cell_type": "code",
   "execution_count": 56,
   "metadata": {},
   "outputs": [
    {
     "data": {
      "text/plain": [
       "state\n",
       "active        26255\n",
       "booting       12849\n",
       "cooldown       1063\n",
       "start_boot      741\n",
       "Name: count, dtype: int64"
      ]
     },
     "execution_count": 56,
     "metadata": {},
     "output_type": "execute_result"
    }
   ],
   "source": [
    "uptime_df.state.value_counts()"
   ]
  },
  {
   "cell_type": "code",
   "execution_count": null,
   "metadata": {},
   "outputs": [],
   "source": [
    "\"\"\" {\n",
    "    id: idnum,\n",
    "    start: timestamp\n",
    "    booting_time: seconds\n",
    "    active_time: seconds\n",
    "    cooldown_time: seconds\n",
    "\n",
    "}\n",
    " \"\"\""
   ]
  },
  {
   "cell_type": "code",
   "execution_count": 68,
   "metadata": {},
   "outputs": [
    {
     "data": {
      "text/plain": [
       "Index(['timestamp', 'obc_received_timestamp', 'uptime', 'state'], dtype='object')"
      ]
     },
     "execution_count": 68,
     "metadata": {},
     "output_type": "execute_result"
    }
   ],
   "source": [
    "uptime_df.columns"
   ]
  },
  {
   "cell_type": "code",
   "execution_count": 65,
   "metadata": {},
   "outputs": [],
   "source": [
    "rows=uptime_df.shape[0]"
   ]
  },
  {
   "cell_type": "code",
   "execution_count": 80,
   "metadata": {},
   "outputs": [],
   "source": [
    "rows=151"
   ]
  },
  {
   "cell_type": "code",
   "execution_count": 81,
   "metadata": {},
   "outputs": [],
   "source": [
    "lista=[]\n",
    "w=0\n",
    "iteration_for_new_event = True\n",
    "\n",
    "for i in range(rows-1):\n",
    "    if uptime_df[\"state\"][i] == \"start_boot\":\n",
    "\n",
    "        # Save window id\n",
    "        id_window=w\n",
    "        # Increase one the counter for next window\n",
    "        w+=1\n",
    "        #\n",
    "        boot_start_ts = uptime_df[\"obc_received_timestamp\"][i]   # unixtimestamp in mili seconds\n",
    "        boot_start_dt = uptime_df[\"timestamp\"][i]                 # datetime\n",
    "\n",
    "    if uptime_df[\"state\"][i] == \"booting\":\n",
    "        booting_flag = 0\n",
    "\n",
    "    if uptime_df[\"state\"][i]  ==  \"active\" and booting_flag==0:\n",
    "        # First active sample, save previous sample to get booting time\n",
    "        boot_finish_ts = uptime_df[\"obc_received_timestamp\"][i-1]    # unixtimestamp in mili seconds\n",
    "        boot_finish_dt = uptime_df[\"timestamp\"][i-1]                 # datetime\n",
    "        booting_flag = 1\n",
    "\n",
    "        # Do nothing until next status change\n",
    "\n",
    "    # Check if the active window is finishing    \n",
    "    if uptime_df[\"state\"][i]  ==  \"active\" and (uptime_df[\"state\"][i+1] == \"cooldown\" or uptime_df[\"state\"][i+1] == \"start_boot\"):\n",
    "        turn_off_ts = uptime_df[\"obc_received_timestamp\"][i]    # unixtimestamp in mili seconds\n",
    "        turn_off_dt = uptime_df[\"timestamp\"][i]                 # datetime\n",
    "\n",
    "    # Cooldown\n",
    "    if uptime_df[\"state\"][i]  ==  \"cooldown\" and uptime_df[\"state\"][i+1] != \"cooldown\":\n",
    "        cooldown_end_ts = uptime_df[\"obc_received_timestamp\"][i]    # unixtimestamp in mili seconds\n",
    "        cooldown_end_dt = uptime_df[\"timestamp\"][i]                 # datetime\n",
    "        # Save data for this event\n",
    "        # Create dictionary\n",
    "        iter_dict={\n",
    "            \"id\": id_window,\n",
    "            \"boot_start_dt\": boot_start_dt,\n",
    "            \"booting_time\": (boot_finish_ts - boot_start_ts)/1000.0, \n",
    "            \"active_time\": (turn_off_ts - boot_finish_ts)/1000.0,\n",
    "            \"cooldown_time\": (cooldown_end_ts - turn_off_ts)/1000.0\n",
    "\n",
    "        }\n",
    "        lista.append(iter_dict)\n"
   ]
  },
  {
   "cell_type": "code",
   "execution_count": 82,
   "metadata": {},
   "outputs": [
    {
     "data": {
      "text/plain": [
       "[{'id': 0,\n",
       "  'boot_start_dt': Timestamp('2022-04-08 04:44:12.581000+0000', tz='UTC'),\n",
       "  'booting_time': 169.994,\n",
       "  'active_time': 50.016,\n",
       "  'cooldown_time': 19.932},\n",
       " {'id': 1,\n",
       "  'boot_start_dt': Timestamp('2022-04-08 05:59:13.201000+0000', tz='UTC'),\n",
       "  'booting_time': 190.177,\n",
       "  'active_time': 409.878,\n",
       "  'cooldown_time': 20.312}]"
      ]
     },
     "execution_count": 82,
     "metadata": {},
     "output_type": "execute_result"
    }
   ],
   "source": [
    "lista"
   ]
  },
  {
   "cell_type": "code",
   "execution_count": null,
   "metadata": {},
   "outputs": [],
   "source": []
  }
 ],
 "metadata": {
  "kernelspec": {
   "display_name": ".venv",
   "language": "python",
   "name": "python3"
  },
  "language_info": {
   "codemirror_mode": {
    "name": "ipython",
    "version": 3
   },
   "file_extension": ".py",
   "mimetype": "text/x-python",
   "name": "python",
   "nbconvert_exporter": "python",
   "pygments_lexer": "ipython3",
   "version": "3.11.6"
  }
 },
 "nbformat": 4,
 "nbformat_minor": 2
}
